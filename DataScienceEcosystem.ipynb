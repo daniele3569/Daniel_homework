{
 "cells": [
  {
   "cell_type": "markdown",
   "id": "5e030573-79ab-4b20-b786-0d60baf2ff0d",
   "metadata": {},
   "source": [
    "# Data Science Tools and Ecosystem"
   ]
  },
  {
   "cell_type": "markdown",
   "id": "d3485099-cb4a-456f-aeac-801b74d9f80b",
   "metadata": {},
   "source": [
    "In this notebook, Data Science Tools and Ecosystem are summarized."
   ]
  },
  {
   "cell_type": "markdown",
   "id": "69efe69e-8132-4328-88f6-b545e0cf634b",
   "metadata": {},
   "source": [
    "Some of the popular languages that Data Scientists use are: Python, R, and Scala"
   ]
  },
  {
   "cell_type": "markdown",
   "id": "d6bb8b83-0093-49a1-b416-2ec6f5c6be1e",
   "metadata": {},
   "source": [
    "****Objectives:****\n",
    "- List popular languages for Data Science>\n",
    "- List commonly used libraries in Data Science\n",
    "- Evaluate arithmetic expressions"
   ]
  },
  {
   "cell_type": "code",
   "execution_count": null,
   "id": "0acb7d10-6a0c-4d0a-b37c-529df60ee484",
   "metadata": {},
   "outputs": [],
   "source": []
  },
  {
   "cell_type": "markdown",
   "id": "62ade07e-f8da-4dfe-be19-4e5f48c5b179",
   "metadata": {},
   "source": [
    "Some of the commonly used libraries used by Data Scientists include: Pandas, Numpy,  Seaborn"
   ]
  },
  {
   "cell_type": "markdown",
   "id": "e376ea5a-b937-46fe-85fc-f788a24a453c",
   "metadata": {},
   "source": [
    "|Data Science Tools|\n",
    "|:----------------:|\n",
    "|Jupyer Notebooks  |\n",
    "|RStudio           |\n",
    "|VisualStudio      |\n"
   ]
  },
  {
   "cell_type": "markdown",
   "id": "1af316a3-709f-4032-ba6d-1f990f0a6be6",
   "metadata": {},
   "source": [
    "### Below are a few examples of evaluating arithmetic expressions in Python\n",
    "--------------------------------------------------------------------------"
   ]
  },
  {
   "cell_type": "code",
   "execution_count": 4,
   "id": "6154557d-682b-42aa-b3e3-ed35c2775a48",
   "metadata": {
    "tags": []
   },
   "outputs": [
    {
     "data": {
      "text/plain": [
       "17"
      ]
     },
     "execution_count": 4,
     "metadata": {},
     "output_type": "execute_result"
    }
   ],
   "source": [
    "# This a simple arithmetic expression to mutiply then add integers\n",
    "(3*4)+5"
   ]
  },
  {
   "cell_type": "code",
   "execution_count": 5,
   "id": "1380be5b-a4e3-4794-a6ea-1da2ff14a790",
   "metadata": {
    "tags": []
   },
   "outputs": [
    {
     "name": "stdout",
     "output_type": "stream",
     "text": [
      "3.3333333333333335\n"
     ]
    }
   ],
   "source": [
    "#This will convert 200 minutes to hours by diving by 60\n",
    "T= 200/60\n",
    "print(T)"
   ]
  },
  {
   "cell_type": "markdown",
   "id": "addcf47d-07f8-4b9c-b5a1-9f3ecee0a3fa",
   "metadata": {},
   "source": [
    "## Author\n",
    "Daniel Estrada"
   ]
  },
  {
   "cell_type": "code",
   "execution_count": null,
   "id": "2b5336ae-553a-4e57-a30a-d482b1d86a1f",
   "metadata": {},
   "outputs": [],
   "source": []
  }
 ],
 "metadata": {
  "kernelspec": {
   "display_name": "Python",
   "language": "python",
   "name": "conda-env-python-py"
  },
  "language_info": {
   "codemirror_mode": {
    "name": "ipython",
    "version": 3
   },
   "file_extension": ".py",
   "mimetype": "text/x-python",
   "name": "python",
   "nbconvert_exporter": "python",
   "pygments_lexer": "ipython3",
   "version": "3.7.12"
  }
 },
 "nbformat": 4,
 "nbformat_minor": 5
}
